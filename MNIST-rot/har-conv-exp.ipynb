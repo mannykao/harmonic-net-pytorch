{
 "cells": [
  {
   "cell_type": "markdown",
   "id": "c84296bb",
   "metadata": {},
   "source": [
    "# Harmonic Convolution Experiment\n",
    "\n",
    "This experiment exists to aid the reader's understanding of the situation.\n"
   ]
  },
  {
   "cell_type": "markdown",
   "id": "2bf15c2d",
   "metadata": {},
   "source": [
    "## The following imports are from `mk_main.py`,`hnet_lite.py`"
   ]
  },
  {
   "cell_type": "code",
   "execution_count": 1,
   "id": "40f71127",
   "metadata": {},
   "outputs": [],
   "source": [
    "#regular imports.\n",
    "from typing import Callable\n",
    "import numpy as np, torch\n",
    "import matplotlib.pyplot as plt\n",
    "\n",
    "import sys\n",
    "sys.path.append(\"../\") #using their convention to import stuff.\n",
    "\n",
    "#mk_main imports.\n",
    "from datasets.rotmnist import rotmnist\n",
    "\n",
    "#hnet_lite imports.\n",
    "from hnet_lite import Conv2d\n",
    "from hnet_ops import *\n",
    "from hnet_ops import h_conv"
   ]
  },
  {
   "cell_type": "markdown",
   "id": "65bce020",
   "metadata": {},
   "source": [
    "## Get Data."
   ]
  },
  {
   "cell_type": "code",
   "execution_count": 2,
   "id": "7c6aa558",
   "metadata": {},
   "outputs": [
    {
     "name": "stdout",
     "output_type": "stream",
     "text": [
      "ourdir=PosixPath('/home/ujjawal/Research/code/harmonic-net-pytorch/mldatasets/datasets/rotmnist/rotMNIST')\n"
     ]
    }
   ],
   "source": [
    "val_set = rotmnist.RotMNIST(split = 'valid')"
   ]
  },
  {
   "cell_type": "code",
   "execution_count": 3,
   "id": "60b40494",
   "metadata": {},
   "outputs": [
    {
     "data": {
      "image/png": "[encoded data removed]",
      "text/plain": [
       "<Figure size 640x480 with 1 Axes>"
      ]
     },
     "metadata": {},
     "output_type": "display_data"
    }
   ],
   "source": [
    "img, lab = val_set[0]\n",
    "plt.imshow(img)\n",
    "plt.title(f\"{lab} image.\")\n",
    "plt.show()"
   ]
  },
  {
   "cell_type": "markdown",
   "id": "b0ddee89",
   "metadata": {},
   "source": [
    "## Make Conv Layer.\n",
    "\n",
    "From `hnet_ops.py`"
   ]
  },
  {
   "cell_type": "code",
   "execution_count": 4,
   "id": "283cdfec",
   "metadata": {},
   "outputs": [],
   "source": [
    "def h_conv(X, W, strides=(1,1,1,1), padding=0, max_order=1):\n",
    "    \"\"\"\n",
    "    This functions performs harmonic convolution operation between the input X\n",
    "    and weights W. Harmonic convolutions between different orders, also referred\n",
    "    as cross-stream convolutions, can be converted into a single convolution. \n",
    "    See Worrall et al, CVPR 2017 for details.\n",
    "    \n",
    "    Args:\n",
    "        X (pytorch tensor): Input image tensor of shape (bs,h,w,order,complex,channels)\n",
    "        W (dict of pytorch tensors): Contains tensors for m orders for filters as well\n",
    "        as the respective phases. \n",
    "        strides (tuple of ints): tuple denoting strides for h and w directions. Similar\n",
    "        to the original tf code as well as the pytorch tuple standard format for stride,\n",
    "        we provide a 4-size tuple here. The dimensions N and c as per convention are \n",
    "        also set to 1.(default (1,1,1,1))\n",
    "        padding: as per the Pytorch conv2d convention (default: 0)\n",
    "        max_order: max. order of roation to be modeled(default: 1)\n",
    "\n",
    "    Returns:\n",
    "        Y: \n",
    "    \"\"\"\t\n",
    "\n",
    "    Xsh = list(X.size())\n",
    "    X_ = X.view(Xsh[:3]+[-1]) # flatten out the last 3 dimensions\n",
    "\n",
    "    # To convert the stream convolutions into a stacked single filter, we\n",
    "    # combine the components of real and imaginary parts \n",
    "    W_ = []\n",
    "    for out_order in range(max_order+1):\n",
    "        # For each output order build input\n",
    "        Wr = []\n",
    "        Wi = []\n",
    "        for inp_order in range(Xsh[3]):\n",
    "            # Difference in orders is the convolution order\n",
    "            weight_order = out_order - inp_order\n",
    "            weights = W[np.abs(weight_order)]\n",
    "            sign = np.sign(weight_order)\n",
    "\n",
    "            if Xsh[4] == 2:\n",
    "                Wr += [weights[0],-sign*weights[1]]\n",
    "                Wi += [sign*weights[1],weights[0]]\n",
    "            else:\n",
    "                Wr += [weights[0]]\n",
    "                Wi += [weights[1]]\n",
    "\n",
    "        W_ += [torch.cat(Wr, 2), torch.cat(Wi, 2)]\n",
    "    W_ = torch.cat(W_, 3)\n",
    "\n",
    "    # Convolving the constructed weights and feature map\n",
    "    W_ = W_.permute(3, 2, 0, 1)\n",
    "    W_ = W_.type(torch.cuda.FloatTensor) if torch.cuda.is_available() \\\n",
    "                                            else W_.type(torch.FloatTensor)\n",
    "    \n",
    "    X_ = X_.permute(0, 3, 1, 2)\n",
    "    Y = torch.nn.functional.conv2d(X_, W_, stride=strides, padding=padding)\n",
    "    Y = Y.permute(0, 2, 3, 1)\n",
    "    # Reshae results into appropriate format\n",
    "    Ysh = list(Y.size())\n",
    "    new_shape = Ysh[:3] + [max_order+1,2] + [Ysh[3]//(2*(max_order+1))]\n",
    "    Y = Y.view(*new_shape)\n",
    "    return Y"
   ]
  },
  {
   "cell_type": "markdown",
   "id": "6402c751",
   "metadata": {},
   "source": [
    "## Some Useful Functions.\n",
    "\n",
    "1. Range Int Scaler $F(x): [-\\infty, \\infty] \\rightarrow [r_{min}, r_{max}]$"
   ]
  },
  {
   "cell_type": "code",
   "execution_count": 5,
   "id": "6363da69",
   "metadata": {},
   "outputs": [],
   "source": [
    "def min_max_scalar(x: np.ndarray):\n",
    "    min_x = np.min(x)\n",
    "    return ((x - min_x) /(np.max(x) - min_x)) \n",
    "\n",
    "def sigmoid(x: np.ndarray):\n",
    "    return 1 / (1 + np.exp(-1 * x))\n",
    "\n",
    "def range_int_scaler(\n",
    "    x: np.ndarray,\n",
    "    rmin: int,\n",
    "    rmax: int,\n",
    "    zero_one_map: Callable = min_max_scalar #can be sigmoid(x).\n",
    "):\n",
    "    \"\"\"\n",
    "    when range of min/max x is unknown,\n",
    "    use abs(softmax(x)) to map to [0,1].\n",
    "    \"\"\"\n",
    "    #1. map x to [0,1].\n",
    "    x_01 = zero_one_map(x)\n",
    "    #2. map x_01 to [rmin, rmax].\n",
    "    x_mm = rmin + (x_01 * (rmax - rmin))\n",
    "    return x_mm.round().astype(np.int32)"
   ]
  },
  {
   "cell_type": "code",
   "execution_count": 6,
   "id": "b8e46542",
   "metadata": {},
   "outputs": [
    {
     "name": "stdout",
     "output_type": "stream",
     "text": [
      "634 µs ± 2.05 µs per loop (mean ± std. dev. of 7 runs, 1,000 loops each)\n"
     ]
    }
   ],
   "source": [
    "%%timeit\n",
    "sample = np.random.rand(99999) #when min, max of param known.\n",
    "range_int_scaler(sample, 9, 10, min_max_scalar)"
   ]
  },
  {
   "cell_type": "code",
   "execution_count": 7,
   "id": "498471d2",
   "metadata": {},
   "outputs": [
    {
     "name": "stdout",
     "output_type": "stream",
     "text": [
      "1.05 ms ± 94.3 ns per loop (mean ± std. dev. of 7 runs, 1,000 loops each)\n"
     ]
    }
   ],
   "source": [
    "%%timeit\n",
    "sample = np.random.rand(99999) #when min, max of param not known.\n",
    "range_int_scaler(sample, 9, 10, sigmoid)"
   ]
  }
 ],
 "metadata": {
  "kernelspec": {
   "display_name": "Python 3.10.4 ('venv4hnet': venv)",
   "language": "python",
   "name": "python3"
  },
  "language_info": {
   "codemirror_mode": {
    "name": "ipython",
    "version": 3
   },
   "file_extension": ".py",
   "mimetype": "text/x-python",
   "name": "python",
   "nbconvert_exporter": "python",
   "pygments_lexer": "ipython3",
   "version": "3.10.4"
  },
  "vscode": {
   "interpreter": {
    "hash": "7a567458cf3564b729d0aa8fe9c111075fe4a3d51f4cf7ed548e34da7a0ce22f"
   }
  }
 },
 "nbformat": 4,
 "nbformat_minor": 5
}
